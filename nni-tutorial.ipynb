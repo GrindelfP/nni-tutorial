{
 "cells": [
  {
   "cell_type": "markdown",
   "id": "629469f6-85f4-491b-8328-9c0979114c0b",
   "metadata": {},
   "source": [
    "# Туториал по нейросетевому подходу к численному интегрированию функции одной переменной\n",
    "\n",
    "__Задача__: использовать нейросеть архитектуры MLP для численного интегрирования функции одной переменной.\n",
    "\n",
    "__Использованные источники__: \n",
    "\n",
    "* Lloyd S., Irani R. A., Ahmadi M. Using neural networks for fast numerical integration and optimization //\n",
    "IEEE Access. — 2020. — Т. 8. — С. 84519—84531.\n",
    "* [Документация по PyTorch](https://pytorch.org/docs/stable/index.html)\n",
    "* [Документация по NumPy](https://numpy.org/doc/)\n",
    "* [Документация по Mpmath](https://mpmath.org/doc/current/index.html)\n",
    "* [Документация по Matplotlib](https://matplotlib.org/stable/index.html)\n",
    "\n",
    "## Немного теории\n",
    "\n",
    "Численным интегралом функции одной переменной называют выражение вида:\n",
    "\n",
    "$ I(f) = \\int_{a}^{b} dx \\{f(x)\\} $ (1) \n",
    "\n",
    "В некоторых случаях неопределенный интеграл функции $f(x)$ может быть получен аналитически,\n",
    "и тогда определенный интеграл можно выразить как \n",
    "\n",
    "$\\int_{a}^{b} dx \\{f(x)\\} = F(b) - F(a)$, (2)\n",
    "\n",
    "где $F(x) = \\int dx \\{f(x)\\}$,\n",
    "но иногда аналитическую форму сложно или невозможно получить и тогда прибегают к помощи численных \n",
    "методов.\n",
    "\n",
    "Применить нейросетевой подход возможно образом, описаным далее.\n",
    "\n",
    "__1. Нейросеть можно представить аналитически__\n",
    "\n",
    "Нейросеть, так как она является лишь набором математических операций над числами в определенной \n",
    "последовательности, можно представить как некоторую функцию $\\hat{f}(X)$, которая может быть \n",
    "задана аналитически:\n",
    "\n",
    "$ \\hat{f}(X) = b^{(2)} + W^{(2)T}\\phi(b^{(1)}+W^{(1)}X) $ (3)\n",
    "\n",
    "-- такое аналитическое представление имеет многослойный перцептрон (MLP) с одним скрытым слоем и \n",
    "функцией активации только на скрытом слое, где\n",
    "\n",
    "$ W^{(1)}, W^{(2)} $ - векторы весов нейросети,\n",
    "\n",
    "$ b^{(1)}, b^{(2)} $ - векторы смещений нейросети.\n",
    "\n",
    "$ X $ - множество входных параметров (для функции одной переменной $|X| = 1$ и в дальнейшем будет \n",
    "указываться как $x$),\n",
    "\n",
    "$ \\phi(•) $ - функция активации скрытого слоя.\n",
    "\n",
    "__2. Возможность аналитического интегрирования нейросети__\n",
    "\n",
    "Приведенное выше аналитическое представление нейросети в зависимости от вида функции активации \n",
    "$ \\phi $ возможно интегрировать аналитически. Это даёт возможность получить определенный интеграл \n",
    "нейросети $ \\hat{f}(x) $ по формуле (2).\n",
    "\n",
    "Представим нейросеть с помощью сумм:\n",
    "\n",
    "$ \\hat{f}(x) = b^{(2)} + \\sum_{j=1}^{k}w_j^{(2)}\\phi(b_j^{(1)}+w_{1j}^{(1)}x) $ (4),\n",
    "\n",
    "где $ k $ - число нейронов скрытого слоя.\n",
    "\n",
    "В данной архитектуре воспользуемся функцией активации *логистическая сигмоида*:\n",
    "\n",
    "$ \\phi(•) = \\frac{1}{1 + e^{-(•)}} $ (5)\n",
    " \n",
    "Для того, чтобы облегчить интегрирование нейросети воспользуемся выражением \n",
    "полилогарифма 0-го порядка и получим интеграл нейросети $\\hat{f}(x)$, обозначив полученный интеграл \n",
    "$ \\hat{I}(f) $:\n",
    "\n",
    "$ \\hat{I}(f) = \\int_{\\alpha}^{\\beta} dx [b^{(2)} + \\sum_{j=1}^{k}w_j^{(2)}\\phi(b_j^{(1)}+w_{1j}^{(1)}x)] = $\n",
    "\n",
    "$ = b^{(2)}(\\beta - \\alpha) + \\sum_{j=1}^{k}w_{j}^{(2)}[(\\beta - \\alpha) + \\frac{\\Phi_{j}}{w_{1j}^{(1)}} ] $ (6.1)\n",
    "\n",
    "$ \\Phi_j = Li_1(-exp[-b_j^{(1)} - w_{1j}^{(1)}\\alpha]) - Li_1(-exp[-b_j^{(1)} - w_{1j}^{(1)}\\beta]) $ (6.2)\n",
    "\n",
    "Как видно выше, формулы (6.1) и (6.2) позволяют, зная веса и смещения нейросети получить значение определенного \n",
    "интеграла нейросети $ \\hat{f}(x) $.\n",
    "\n",
    "Как же это может помочь нам в численном интегрировании нашей изначальной функции?\n",
    "\n",
    "__3. Нейросетевое численное интегрирование__\n",
    "\n",
    "Давайте попробуем аппроксимировать функцию $ f(x) $ нейросетью $ \\hat{f}(x) $. Зная вид функции $ f(x) $ и \n",
    "её область определения $ A $ мы имеем возможность создать обучающее и тестовое множество \n",
    "$ TRAIN = \\{ (x, y) | x \\in A, y = f(x) \\},$ $TEST = \\{ (x, y) | x \\in A, y = f(x) \\}$ и провести \n",
    "процедуру обучения нейросети $ \\hat{f}(x) $.\n",
    "\n",
    "После достижения удовлетворяющей нас точности мы можем предположить, что данная нейросеть $ \\hat{f}(x) $ \n",
    "аппроксимирует $ f(x) $, то есть, проще говоря, для любого $ x \\in A $ значение \n",
    "$ \\hat{f}(x) $ достаточно близко значению $ f(x) $:\n",
    "\n",
    "$ |\\hat{f}(x) - f(x)| < \\epsilon $,\n",
    "\n",
    "где $ \\epsilon $ - удовлетворяющая требованиям задачи погрешность.\n",
    "\n",
    "Таким образом, $ \\hat{f}(x) $ \"ведёт себя\" так же как и изначальная $ f(x) $, а значит интеграл $ \\hat{I}(f) = \\int_{a}^{b}dx\\{\\hat{f}(x)\\} $ будет близок по значению искомому интегралу $ I(f) = \\int_{a}^{b}dx\\{f(x)\\} $:\n",
    "\n",
    "$ |\\hat{I}(f) - I(f)| < \\varepsilon $,\n",
    "\n",
    "где $ \\varepsilon $ - удовлетворяющая требованиям задачи погрешность.\n",
    "\n",
    "Но пора перейти к практике и испробовать данный подход!"
   ]
  },
  {
   "cell_type": "markdown",
   "id": "20dc4776-4616-4cae-bbc8-3cef4751d7c1",
   "metadata": {},
   "source": [
    "## Импорт необходимых библиотек\n",
    "\n",
    "* PyTorch - работа с нейросетью.\n",
    "* NumPy - работа с массивами данных и операциями над ними.\n",
    "* Matplotlib - визуализация данных.\n",
    "* Mpmath - необходим для имплементации полилогарифма.\n",
    "* scikit-learn - необходим для создания датасета для дальнейшего обучений нейросети."
   ]
  },
  {
   "cell_type": "code",
   "execution_count": 1,
   "id": "766c8d63-ee9f-4847-84a7-8343a962cb39",
   "metadata": {},
   "outputs": [],
   "source": [
    "import torch\n",
    "import torch.nn as nn\n",
    "import torch.optim as optim\n",
    "from torchsummary import summary\n",
    "\n",
    "import numpy as np\n",
    "\n",
    "import matplotlib.pyplot as plt\n",
    "\n",
    "from mpmath import polylog\n",
    "\n",
    "from sklearn.model_selection import train_test_split"
   ]
  },
  {
   "cell_type": "markdown",
   "id": "877ad9a8-cc8c-4c81-a8c1-60df3c69f890",
   "metadata": {},
   "source": [
    "## Создание датасета\n",
    "### Функция $f(x)$ и функция-генератор датасета\n",
    "\n",
    "Будем тренировать модель аппроксимировать простую функцию $ f(x) = cos(x) $.\n",
    "\n",
    "Определим функцию $ f(x) $ и функцию-генератор датасета."
   ]
  },
  {
   "cell_type": "code",
   "execution_count": 2,
   "id": "70030858-ce8d-43ef-9f5e-6e0a855fcfb7",
   "metadata": {},
   "outputs": [],
   "source": [
    "def f_cos(x):\n",
    "    \"\"\"\n",
    "        Функция одной переменной cos(x).\n",
    "        \n",
    "        @param переменной функции \n",
    "               (в силу нестрогой типизаци в Python может быть передан и вектор переменных) \n",
    "        \n",
    "        @returns значение функции для данной переменной (данных переменных)\n",
    "    \"\"\"\n",
    "    return np.cos(x)"
   ]
  },
  {
   "cell_type": "code",
   "execution_count": 3,
   "id": "9e157275-a9b5-42ba-b014-086469154cc6",
   "metadata": {},
   "outputs": [],
   "source": [
    "def generate_data(func, size=100):\n",
    "    \"\"\"\n",
    "        Функция-генератор датасета.\n",
    "        \n",
    "        @param func функция одной переменной\n",
    "        @param size размер датасета (по умолчанию 100)\n",
    "        \n",
    "        @returns тензор переменных х и тензор функций y\n",
    "    \"\"\"\n",
    "    x = torch.linspace(0, 1, size).unsqueeze(1) # вектор-столбец случайных (равномерное распределение) \n",
    "                                                # переменных в отрезке [0, 1]\n",
    "    y = func(x) # вектор значений функции\n",
    "    \n",
    "    return x, y"
   ]
  },
  {
   "cell_type": "code",
   "execution_count": 4,
   "id": "18fe9f29-4c37-4721-b699-815d8057cfe0",
   "metadata": {},
   "outputs": [
    {
     "data": {
      "text/plain": [
       "(tensor([[0.0000],\n",
       "         [0.1111],\n",
       "         [0.2222],\n",
       "         [0.3333],\n",
       "         [0.4444],\n",
       "         [0.5556],\n",
       "         [0.6667],\n",
       "         [0.7778],\n",
       "         [0.8889],\n",
       "         [1.0000]]),\n",
       " tensor([[1.0000],\n",
       "         [0.9938],\n",
       "         [0.9754],\n",
       "         [0.9450],\n",
       "         [0.9028],\n",
       "         [0.8496],\n",
       "         [0.7859],\n",
       "         [0.7125],\n",
       "         [0.6303],\n",
       "         [0.5403]]))"
      ]
     },
     "execution_count": 4,
     "metadata": {},
     "output_type": "execute_result"
    }
   ],
   "source": [
    "data = generate_data(f_cos, 10)\n",
    "data"
   ]
  },
  {
   "cell_type": "markdown",
   "id": "d81b6b44-0887-42a1-95a9-ab22ff6b1718",
   "metadata": {},
   "source": [
    "### Создание датасета для нейронной сети\n",
    "\n",
    "Теперь необходимо воспользоваться созданными функциями, чтобы создать объект тренировочную и тестовую выборку.\n",
    "(В данном конкретном случае валидация на этапе обучения выполняться не будет.)"
   ]
  },
  {
   "cell_type": "code",
   "execution_count": 5,
   "id": "909cea99-8826-4fce-a9cb-22c4439ab9d0",
   "metadata": {},
   "outputs": [],
   "source": [
    "X, Y = generate_data(f_cos, 10000) # датасет из параметров и значений функций"
   ]
  },
  {
   "cell_type": "code",
   "execution_count": 6,
   "id": "9a47d761-ad82-433d-832d-6e967504575c",
   "metadata": {},
   "outputs": [
    {
     "data": {
      "text/plain": [
       "(torch.Size([8000, 1]),\n",
       " torch.Size([8000, 1]),\n",
       " torch.Size([2000, 1]),\n",
       " torch.Size([2000, 1]))"
      ]
     },
     "execution_count": 6,
     "metadata": {},
     "output_type": "execute_result"
    }
   ],
   "source": [
    "x_train, x_test, y_train, y_test = train_test_split(X, Y, test_size = 0.2) # разделение на тренировочные \n",
    "                                                                           # и тестовые выборки\n",
    "\n",
    "x_train.shape, y_train.shape, x_test.shape, y_test.shape # размерности выборок"
   ]
  },
  {
   "cell_type": "markdown",
   "id": "079e8082-017f-4d60-acfc-dff9f3cd6ee4",
   "metadata": {},
   "source": [
    "На данном этапе мы имеем созданный набор данных для функции __cos(x)__."
   ]
  },
  {
   "attachments": {
    "0b2b7fb1-c256-4d96-9544-d0943f3eafbf.png": {
     "image/png": "[encoded data removed]"
    }
   },
   "cell_type": "markdown",
   "id": "783d2f81-4441-49d7-bd5d-27fbe2b6414b",
   "metadata": {},
   "source": [
    "## Создание модели\n",
    "\n",
    "Теперь создадим модель нейросети, которая будет учиться оценивать данную функцию одной переменной.\n",
    "Необходимо определить: \n",
    "* её архитектуру,\n",
    "* функцию обучения,\n",
    "* функцию тестирования.\n",
    "\n",
    "### Архитектура нейросети\n",
    "\n",
    "![image.png](attachment:0b2b7fb1-c256-4d96-9544-d0943f3eafbf.png)"
   ]
  },
  {
   "cell_type": "markdown",
   "id": "6b0ad139-e961-4582-a370-800f69113445",
   "metadata": {},
   "source": [
    "### Создание архитектуры нейросети"
   ]
  },
  {
   "cell_type": "code",
   "execution_count": 7,
   "id": "29f74521-32e9-4672-ade3-c1832586cc51",
   "metadata": {},
   "outputs": [],
   "source": [
    "class MLP(nn.Module):\n",
    "    \"\"\"\n",
    "        Нейросеть, которая будет обучаться приближать функцию одной переменной.\n",
    "        \n",
    "        Нейросеть имеет архитектуру:\n",
    "\n",
    "        Входной слой (1 нейрон для переменной функции + смещение, линейная функция активации)\n",
    "        Скрытый слой (произвольное количество нейронов + смещение, функция активации - сигмоида)\n",
    "        Выходной слой (1 нейрон для приближенного значения функции, линейная функция активации)\n",
    "    \"\"\"\n",
    "    def __init__(self, hidden_size):\n",
    "        \"\"\"\n",
    "            Конструктор для нейросети.\n",
    "            @param self        нейросеть (необходим для включения в класс)\n",
    "            @param hidden_size размер скрытого слоя (размеры входного и выходного слоёв равны одному\n",
    "                               в рамках данной задачи, так как у функции одна переменная и \n",
    "                               задача сводится к описанию функции, то есть числа, скаляра).\n",
    "        \"\"\"\n",
    "        super(MLP, self).__init__()\n",
    "        self.input_hidden_layer = nn.Linear(1, hidden_size) # инициализация входного и скрытого слоя, \n",
    "                                                     # размеры: 1 --> размер скрытого слоя\n",
    "        self.sigmoid_activation = nn.Sigmoid() # инициализация функции активации скрытого слоя\n",
    "        self.output_layer = nn.Linear(hidden_size, 1) # инициализация выходного слоя, \n",
    "                                                      # размеры: размер скрытого слоя --> 1\n",
    "    \n",
    "    def forward(self, x):\n",
    "        \"\"\"\n",
    "            Функция распространения данных через нейросеть вперёд.\n",
    "           \n",
    "            @param self   нейросеть (необходим для включения в класс)\n",
    "            @param x      данные\n",
    "           \n",
    "            @returns выход в выходном нейроне\n",
    "        \"\"\"\n",
    "        x = self.input_hidden_layer(x) # данные прошли входной слой и аккумулирвоаны в скрытом слое\n",
    "        x = self.sigmoid_activation(x) # данные прошли функцию активации скрытого слоя\n",
    "        x = self.output_layer(x) # данные прошли выходной слой\n",
    "        \n",
    "        return x"
   ]
  },
  {
   "cell_type": "markdown",
   "id": "b79df761-4bce-416b-9d91-55b6c9849bc0",
   "metadata": {},
   "source": [
    "### Создание функции обучения нейросети"
   ]
  },
  {
   "cell_type": "code",
   "execution_count": 8,
   "id": "0e1e5e26-1ada-4d97-848d-b0f17b87f975",
   "metadata": {},
   "outputs": [],
   "source": [
    "def train_model(model, criterion, optimizer, x_train, y_train, epochs):\n",
    "    \"\"\"\n",
    "        Функция обучения нейросети.\n",
    "        @param model\n",
    "        @param criterion функция потерь\n",
    "        @param optimizer модель оптимизации\n",
    "        @param x_train   тренировочный набор переменных\n",
    "        @param y_train   тренировочный набор истинных значений функций\n",
    "        @param epochs    количество эпох обучения\n",
    "    \"\"\"\n",
    "    loss_history = [] # история обучения (изменения функции потерь)\n",
    "    for epoch in range(epochs):\n",
    "        predictions = model(x_train) # все переменные проводятся через нейросеть \n",
    "                                     # и формируются предскзания значений функции\n",
    "        loss = criterion(predictions, y_train) # вычисляется функция потерь на данной эпохе\n",
    "\n",
    "        optimizer.zero_grad() # обнуляются градиенты перед обратным распространением ошибки\n",
    "        loss.backward() # обратное распространение ошибки\n",
    "        optimizer.step() # шаг оптимизации - обновление параметров модели \n",
    "\n",
    "        loss_history.append(loss.item()) # запись текущей функции потерь\n",
    "\n",
    "        if (epoch + 1) % 100 == 0:\n",
    "            print(f'Epoch [{epoch + 1}/{epochs}], Loss: {loss.item():.10f}') # вывод информации об обучении\n",
    "    \n",
    "    return loss_history # возвращается история обучения"
   ]
  },
  {
   "cell_type": "markdown",
   "id": "5036914e-2011-4b02-9e8c-2c87ce294e4e",
   "metadata": {},
   "source": [
    "### Создание функции тестирования нейросети"
   ]
  },
  {
   "cell_type": "code",
   "execution_count": 9,
   "id": "5a8b269c-50d4-4cad-a150-1a3e33eec79a",
   "metadata": {},
   "outputs": [],
   "source": [
    "def test_model(model, criterion, x_test, y_test):\n",
    "    \"\"\"\n",
    "    Функция тестирования нейросети.\n",
    "    @param model      обученная модель\n",
    "    @param criterion  функция потерь\n",
    "    @param x_test     тестовый набор переменных\n",
    "    @param y_test     тестовый набор истинных значений функций\n",
    "    \"\"\"\n",
    "    with torch.no_grad():  # отключение расчета градиентов \n",
    "                           # (расчет градиентов может происходить по умолчанию \n",
    "                           # даже без использования их потом, что излишне нагружает память)\n",
    "        predictions = model(x_test)  # тестовые переменные проводятся через обученную модель\n",
    "        loss = criterion(predictions, y_test)  # вычисляется функция потерь для тестового набора\n",
    "\n",
    "    # Возвращаем вычисленную функцию потерь\n",
    "    return loss.item()  # Возвращаем скалярное значение ошибки"
   ]
  },
  {
   "cell_type": "markdown",
   "id": "dad4a462-dbef-49b2-8657-c56e6b16945b",
   "metadata": {},
   "source": [
    "Мы разработали архитектуру нейросети и необходимые функции для работы с ней. \n",
    "Теперь пора воспользоваться созданым функционалом для вычисления интеграла cos(x).\n",
    "\n",
    "## Применение нейросетевого подхода\n",
    "### Задание гиперпараметров"
   ]
  },
  {
   "cell_type": "code",
   "execution_count": 10,
   "id": "4ea7c2bf-3a75-45ce-b7f3-d4550c0bdb10",
   "metadata": {},
   "outputs": [],
   "source": [
    "hidden_size = 20 # число нейронов скрытого слоя\n",
    "learning_rate = 0.001 # скорость обучения\n",
    "num_epochs = 10000 # число эпох"
   ]
  },
  {
   "cell_type": "markdown",
   "id": "630b354c-0444-43a0-a4bc-bd9615331892",
   "metadata": {},
   "source": [
    "### Создание модели"
   ]
  },
  {
   "cell_type": "code",
   "execution_count": 11,
   "id": "76a8493e-9d10-4ff2-83ca-7ad7c93163ce",
   "metadata": {},
   "outputs": [
    {
     "data": {
      "text/plain": [
       "MLP(\n",
       "  (input_hidden_layer): Linear(in_features=1, out_features=20, bias=True)\n",
       "  (sigmoid_activation): Sigmoid()\n",
       "  (output_layer): Linear(in_features=20, out_features=1, bias=True)\n",
       ")"
      ]
     },
     "execution_count": 11,
     "metadata": {},
     "output_type": "execute_result"
    }
   ],
   "source": [
    "model = MLP(hidden_size) # создание модели\n",
    "model # вывод упрощенного описания модели"
   ]
  },
  {
   "cell_type": "markdown",
   "id": "067dcfed-f523-4ee0-ad9c-bdd2d26fbd1c",
   "metadata": {},
   "source": [
    "Из описания инициализированной модели видно, что она состоит из трёх слоёв с \n",
    "* 1 нейроном в входном слое,\n",
    "* 20 нейронами в скрытом слое и функцией активации *сигмоида*,\n",
    "* 1 нейроном в выходном слое,\n",
    "* в первом и втором слое присуствует смещение.\n",
    "\n",
    "Как будет видно ниже, в более подробном описании, у нейросети __61 параметр__, из которых:\n",
    "* (1 входной нейрон + 1 входное смещение) * 20 скрытых нейронов = __40 параметров__ между входным и скрытым слоями,\n",
    "* 20 скрытых нейронов + 1 скрытое смещение = __21 параметр между__ скрытым и выходным слоями.\n",
    "Все из этих параметров обучаемые."
   ]
  },
  {
   "cell_type": "code",
   "execution_count": 12,
   "id": "3657b3c9-87dc-49a3-be95-9574a04a3f67",
   "metadata": {},
   "outputs": [
    {
     "name": "stdout",
     "output_type": "stream",
     "text": [
      "----------------------------------------------------------------\n",
      "        Layer (type)               Output Shape         Param #\n",
      "================================================================\n",
      "            Linear-1                   [-1, 20]              40\n",
      "           Sigmoid-2                   [-1, 20]               0\n",
      "            Linear-3                    [-1, 1]              21\n",
      "================================================================\n",
      "Total params: 61\n",
      "Trainable params: 61\n",
      "Non-trainable params: 0\n",
      "----------------------------------------------------------------\n",
      "Input size (MB): 0.00\n",
      "Forward/backward pass size (MB): 0.00\n",
      "Params size (MB): 0.00\n",
      "Estimated Total Size (MB): 0.00\n",
      "----------------------------------------------------------------\n"
     ]
    }
   ],
   "source": [
    "summary(model, (1,)) # подробное описание модели"
   ]
  },
  {
   "cell_type": "markdown",
   "id": "ea51eb6a-f257-45af-af8c-9f5930e848fa",
   "metadata": {},
   "source": [
    "### Обучение модели"
   ]
  },
  {
   "cell_type": "code",
   "execution_count": 13,
   "id": "edbb0da4-0aed-42c0-a5be-be214534df3a",
   "metadata": {
    "scrolled": true
   },
   "outputs": [
    {
     "name": "stdout",
     "output_type": "stream",
     "text": [
      "Epoch [100/10000], Loss: 0.0276362859\n",
      "Epoch [200/10000], Loss: 0.0220295172\n",
      "Epoch [300/10000], Loss: 0.0190721583\n",
      "Epoch [400/10000], Loss: 0.0160118975\n",
      "Epoch [500/10000], Loss: 0.0130262887\n",
      "Epoch [600/10000], Loss: 0.0102512408\n",
      "Epoch [700/10000], Loss: 0.0077991053\n",
      "Epoch [800/10000], Loss: 0.0057558110\n",
      "Epoch [900/10000], Loss: 0.0041669058\n",
      "Epoch [1000/10000], Loss: 0.0030254007\n",
      "Epoch [1100/10000], Loss: 0.0022734241\n",
      "Epoch [1200/10000], Loss: 0.0018205730\n",
      "Epoch [1300/10000], Loss: 0.0015702567\n",
      "Epoch [1400/10000], Loss: 0.0014411531\n",
      "Epoch [1500/10000], Loss: 0.0013764660\n",
      "Epoch [1600/10000], Loss: 0.0013423496\n",
      "Epoch [1700/10000], Loss: 0.0013212662\n",
      "Epoch [1800/10000], Loss: 0.0013052222\n",
      "Epoch [1900/10000], Loss: 0.0012909931\n",
      "Epoch [2000/10000], Loss: 0.0012774401\n",
      "Epoch [2100/10000], Loss: 0.0012642302\n",
      "Epoch [2200/10000], Loss: 0.0012512963\n",
      "Epoch [2300/10000], Loss: 0.0012386468\n",
      "Epoch [2400/10000], Loss: 0.0012262954\n",
      "Epoch [2500/10000], Loss: 0.0012142499\n",
      "Epoch [2600/10000], Loss: 0.0012025040\n",
      "Epoch [2700/10000], Loss: 0.0011910397\n",
      "Epoch [2800/10000], Loss: 0.0011798289\n",
      "Epoch [2900/10000], Loss: 0.0011688320\n",
      "Epoch [3000/10000], Loss: 0.0011579997\n",
      "Epoch [3100/10000], Loss: 0.0011472768\n",
      "Epoch [3200/10000], Loss: 0.0011366017\n",
      "Epoch [3300/10000], Loss: 0.0011259033\n",
      "Epoch [3400/10000], Loss: 0.0011151128\n",
      "Epoch [3500/10000], Loss: 0.0011041458\n",
      "Epoch [3600/10000], Loss: 0.0010929231\n",
      "Epoch [3700/10000], Loss: 0.0010813493\n",
      "Epoch [3800/10000], Loss: 0.0010693286\n",
      "Epoch [3900/10000], Loss: 0.0010567498\n",
      "Epoch [4000/10000], Loss: 0.0010434954\n",
      "Epoch [4100/10000], Loss: 0.0010294314\n",
      "Epoch [4200/10000], Loss: 0.0010144078\n",
      "Epoch [4300/10000], Loss: 0.0009982539\n",
      "Epoch [4400/10000], Loss: 0.0009807823\n",
      "Epoch [4500/10000], Loss: 0.0009617782\n",
      "Epoch [4600/10000], Loss: 0.0009410006\n",
      "Epoch [4700/10000], Loss: 0.0009181920\n",
      "Epoch [4800/10000], Loss: 0.0008930704\n",
      "Epoch [4900/10000], Loss: 0.0008653456\n",
      "Epoch [5000/10000], Loss: 0.0008347318\n",
      "Epoch [5100/10000], Loss: 0.0008009626\n",
      "Epoch [5200/10000], Loss: 0.0007638216\n",
      "Epoch [5300/10000], Loss: 0.0007231740\n",
      "Epoch [5400/10000], Loss: 0.0006789977\n",
      "Epoch [5500/10000], Loss: 0.0006314238\n",
      "Epoch [5600/10000], Loss: 0.0005807678\n",
      "Epoch [5700/10000], Loss: 0.0005275529\n",
      "Epoch [5800/10000], Loss: 0.0004725210\n",
      "Epoch [5900/10000], Loss: 0.0004166200\n",
      "Epoch [6000/10000], Loss: 0.0003609686\n",
      "Epoch [6100/10000], Loss: 0.0003067891\n",
      "Epoch [6200/10000], Loss: 0.0002553277\n",
      "Epoch [6300/10000], Loss: 0.0002077450\n",
      "Epoch [6400/10000], Loss: 0.0001650148\n",
      "Epoch [6500/10000], Loss: 0.0001278295\n",
      "Epoch [6600/10000], Loss: 0.0000965408\n",
      "Epoch [6700/10000], Loss: 0.0000711397\n",
      "Epoch [6800/10000], Loss: 0.0000512813\n",
      "Epoch [6900/10000], Loss: 0.0000363566\n",
      "Epoch [7000/10000], Loss: 0.0000255892\n",
      "Epoch [7100/10000], Loss: 0.0000181395\n",
      "Epoch [7200/10000], Loss: 0.0000131996\n",
      "Epoch [7300/10000], Loss: 0.0000100605\n",
      "Epoch [7400/10000], Loss: 0.0000081478\n",
      "Epoch [7500/10000], Loss: 0.0000070286\n",
      "Epoch [7600/10000], Loss: 0.0000063974\n",
      "Epoch [7700/10000], Loss: 0.0000060521\n",
      "Epoch [7800/10000], Loss: 0.0000058662\n",
      "Epoch [7900/10000], Loss: 0.0000057650\n",
      "Epoch [8000/10000], Loss: 0.0000057068\n",
      "Epoch [8100/10000], Loss: 0.0000056693\n",
      "Epoch [8200/10000], Loss: 0.0000056413\n",
      "Epoch [8300/10000], Loss: 0.0000056173\n",
      "Epoch [8400/10000], Loss: 0.0000055948\n",
      "Epoch [8500/10000], Loss: 0.0000055726\n",
      "Epoch [8600/10000], Loss: 0.0000055502\n",
      "Epoch [8700/10000], Loss: 0.0000055273\n",
      "Epoch [8800/10000], Loss: 0.0000055036\n",
      "Epoch [8900/10000], Loss: 0.0000054792\n",
      "Epoch [9000/10000], Loss: 0.0000054539\n",
      "Epoch [9100/10000], Loss: 0.0000054275\n",
      "Epoch [9200/10000], Loss: 0.0000054001\n",
      "Epoch [9300/10000], Loss: 0.0000053716\n",
      "Epoch [9400/10000], Loss: 0.0000053418\n",
      "Epoch [9500/10000], Loss: 0.0000053108\n",
      "Epoch [9600/10000], Loss: 0.0000052785\n",
      "Epoch [9700/10000], Loss: 0.0000052447\n",
      "Epoch [9800/10000], Loss: 0.0000052096\n",
      "Epoch [9900/10000], Loss: 0.0000051730\n",
      "Epoch [10000/10000], Loss: 0.0000051348\n"
     ]
    }
   ],
   "source": [
    "criterion = nn.MSELoss() # функция потерь - среднеквадратичная ошибка\n",
    "optimizer = optim.Adam(model.parameters(), lr=learning_rate) # алгоритм оптимизации Adam\n",
    "\n",
    "history = train_model(model, criterion, optimizer, x_train, y_train, num_epochs) # запуск обучения\n",
    "                                                                                 # процесс обучения записывается \n",
    "                                                                                 # в переменной history"
   ]
  },
  {
   "cell_type": "markdown",
   "id": "ae809221-73f7-4421-a0e0-8899f189947f",
   "metadata": {},
   "source": [
    "#### Визуализация процесса обучения"
   ]
  },
  {
   "cell_type": "code",
   "execution_count": 14,
   "id": "e696c631-92aa-489a-a82d-98107df6b52f",
   "metadata": {},
   "outputs": [
    {
     "data": {
      "image/png": "[encoded data removed]",
      "text/plain": [
       "<Figure size 1000x600 with 1 Axes>"
      ]
     },
     "metadata": {},
     "output_type": "display_data"
    }
   ],
   "source": [
    "plt.figure(figsize=(10, 6))\n",
    "plt.plot(history, label='Loss', color='b')\n",
    "plt.xlabel('Epochs')\n",
    "plt.ylabel('Loss')\n",
    "plt.title('Loss Function over Epochs')\n",
    "plt.legend()\n",
    "plt.grid(True)\n",
    "plt.show()"
   ]
  },
  {
   "cell_type": "markdown",
   "id": "4af75c76-7a65-429a-bdbd-ec9e8ac1b574",
   "metadata": {},
   "source": [
    "### Тестирование модели"
   ]
  },
  {
   "cell_type": "code",
   "execution_count": 15,
   "id": "8037bdc4-e5b8-49ea-a298-33537f1e49f6",
   "metadata": {},
   "outputs": [
    {
     "name": "stdout",
     "output_type": "stream",
     "text": [
      "Test Loss: 0.0000051638\n"
     ]
    }
   ],
   "source": [
    "test_loss = test_model(model, criterion, x_test, y_test)\n",
    "print(f\"Test Loss: {test_loss:.10f}\")"
   ]
  },
  {
   "cell_type": "markdown",
   "id": "8c427b8d-0048-4840-9abd-65e9bc7e0e23",
   "metadata": {},
   "source": [
    "### Извлечение параметров модели\n",
    "\n",
    "Теперь необходимо извлечь из нейросети её веса и смещения для того, чтобы подставить в качестве\n",
    "параметров в формулу (6.1). "
   ]
  },
  {
   "cell_type": "code",
   "execution_count": 16,
   "id": "f1161d07-8261-48df-b133-8447bcdcd82f",
   "metadata": {},
   "outputs": [],
   "source": [
    "def extract_model_params(model):\n",
    "    \"\"\"\n",
    "        Функция извлечения параметров нейросети.\n",
    "        @param model модель, из которой необходимо извлеч параметры\n",
    "        @returns 4 объекта типа numpy.array: смещения 1-го слоя, веса 1-го слоя,\n",
    "                 смещения 2-го слоя, веса 2-го слоя\n",
    "    \"\"\"\n",
    "    # detach() - возвращает выбранный параметр, numpy() конвертирует в формат numpy.array,\n",
    "    # flatten() для весов преобразует векторы-столбцы в векторы-строки.\n",
    "    b1 = model.input_hidden_layer.bias.detach().numpy() \n",
    "    w1 = model.input_hidden_layer.weight.detach().numpy().flatten()\n",
    "    b2 = model.output_layer.bias.detach().numpy() \n",
    "    w2 = model.output_layer.weight.detach().numpy().flatten()\n",
    "    \n",
    "    return b1, w1, b2, w2"
   ]
  },
  {
   "cell_type": "code",
   "execution_count": 17,
   "id": "f9f73eaa-335b-4003-8f29-60a9d34b3609",
   "metadata": {},
   "outputs": [
    {
     "data": {
      "text/plain": [
       "((20,), (20,), (1,), (20,))"
      ]
     },
     "execution_count": 17,
     "metadata": {},
     "output_type": "execute_result"
    }
   ],
   "source": [
    "b1, w1, b2, w2 = extract_model_params(model)\n",
    "b1.shape, w1.shape, b2.shape, w2.shape # извлечено 20 весов и смещений между входным и скрытым слоями\n",
    "                                       # 20 весов и 1 смещение между скрытым и выходным слоями"
   ]
  },
  {
   "cell_type": "markdown",
   "id": "4be1b991-a02d-4bf9-aee5-f50996bc0b73",
   "metadata": {},
   "source": [
    "## Функция численного интегрирования\n",
    "\n",
    "Выразим формулы (6.1) и (6.2) в качестве функции get_NN_analytical_integral()."
   ]
  },
  {
   "cell_type": "code",
   "execution_count": 18,
   "id": "fc875ed1-81d5-49c3-a9cf-768bcfdaa760",
   "metadata": {},
   "outputs": [],
   "source": [
    "def get_NN_analytical_integral(alpha, beta, b1, w1, b2, w2):\n",
    "    \"\"\"\n",
    "        Функция, реализующая метод численного интегрирования функции одной переменной\n",
    "        на основе параметров нейросети. Реализует формулы (6.1) и (6.2).\n",
    "\n",
    "        @param alpha нижняя граница интегрирования\n",
    "        @param beta  верхняя граница интегрирования\n",
    "        @param b1    смещения между входным и скрытым слоями\n",
    "        @param w1    веса между входным и скрытым слоями\n",
    "        @param b2    смещения между скрытым и выходным слоями\n",
    "        @param w2    веса между скрытым и выходным слоями\n",
    "\n",
    "        @returns численный интеграл на основе параметров нейросети.\n",
    "    \"\"\"\n",
    "    def Phi_j(alpha, beta, b1_j, w1_j):\n",
    "        \"\"\"\n",
    "            Вложенная функция, реализующая разность полилогарифмов (6.2).\n",
    "\n",
    "            @param alpha нижняя граница интегрирования\n",
    "            @param beta  верхняя граница интегрирования\n",
    "            @param b1_j  j-е смещение между входным и скрытым слоями\n",
    "            @param w1_j  j-тый вес между входным и скрытым слоями\n",
    "\n",
    "            @returns разность полилогарифмов (6.2)\n",
    "        \"\"\"\n",
    "        term_alpha = polylog(1, -np.exp(-b1_j - w1_j * alpha)) # расчет первого полилогарифма 1-го порядка\n",
    "        term_beta = polylog(1, -np.exp(-b1_j - w1_j * beta)) # расчет второго полилогарифма 1-го порядка\n",
    "        \n",
    "        return term_alpha - term_beta # результат - разность первого и второго полилогарифмов\n",
    "\n",
    "    integral_sum = 0 # сумма интеграллов \n",
    "    \n",
    "    for w2_j, w1_j, b1_j in zip(w2, w1, b1):\n",
    "        phi_j = Phi_j(alpha, beta, b1_j, w1_j) # рассчет разности полилогарифмов (6.2)\n",
    "        integral_sum += w2_j * ((beta - alpha) + phi_j / w1_j) # аккумулирование интегралла для суммы в (6.1)\n",
    "    \n",
    "    return b2 * (beta - alpha) + integral_sum # результат полная формула численног метода (6.1)"
   ]
  },
  {
   "cell_type": "markdown",
   "id": "0c143783-90e2-45b3-a957-6204872bcf50",
   "metadata": {},
   "source": [
    "### Численное интегрирования\n",
    "\n",
    "__Теперь всё готово для численного интегрирования.__ Проведём испытание на 5 отрезках интегрирования\n",
    "и определим, насколько нейросетевые численные интегралы (будем отсылаться к ним NNI) отличаются от истинных интегралов нашей функции (будем отсылаться к ним TI).\n",
    "\n",
    "Узнать истинные определенные интегралы очень просто, причем с максимально-возможной точностью: \n",
    "\n",
    "$ \\int cos(x)dx = sin(x) + C $, значит \n",
    "\n",
    "$ \\int_{\\alpha}^{\\beta}cos(x)dx = sin(\\beta) - sin(\\alpha) $."
   ]
  },
  {
   "cell_type": "code",
   "execution_count": 19,
   "id": "13c2897b-3176-4844-8c9f-179fa4e8453f",
   "metadata": {},
   "outputs": [],
   "source": [
    "alphas = [0, 0.2, 0.5, 0.7, 0.9] # нижние границы интегрирования\n",
    "betas = [1, 0.4, 0.6, 0.9, 1.1] # верхние границы интегрирования"
   ]
  },
  {
   "cell_type": "code",
   "execution_count": 20,
   "id": "3036228d-b656-4b39-8222-8d8c5bf741de",
   "metadata": {},
   "outputs": [],
   "source": [
    "NNI = [] # нейросетевые интегралы\n",
    "TI = [] # истинные интегралы\n",
    "\n",
    "for alpha, beta in zip(alphas, betas): # цикл по границам интегрирования\n",
    "    NNI.append(float(get_NN_analytical_integral(alpha, beta, b1, w1, b2, w2)[0])) # рассчет NNI для данных границ\n",
    "    TI.append(np.sin(beta) - np.sin(alpha)) # рассчет TI для данных границ"
   ]
  },
  {
   "cell_type": "markdown",
   "id": "39bdacf9-8939-416b-9eab-d164c267bf4d",
   "metadata": {},
   "source": [
    "И результаты:"
   ]
  },
  {
   "cell_type": "code",
   "execution_count": 23,
   "id": "8cd69048-af8e-4c17-8b34-36d88732a372",
   "metadata": {},
   "outputs": [
    {
     "name": "stdout",
     "output_type": "stream",
     "text": [
      "Для α = 0.0, β = 1.0\n",
      "\tNNI = 0.841490 и \n",
      "\t TI = 0.841471\n",
      "Ошибка составила 0.000019\n",
      "\n",
      "Для α = 0.2, β = 0.4\n",
      "\tNNI = 0.190393 и \n",
      "\t TI = 0.190749\n",
      "Ошибка составила 0.000356\n",
      "\n",
      "Для α = 0.5, β = 0.6\n",
      "\tNNI = 0.085458 и \n",
      "\t TI = 0.085217\n",
      "Ошибка составила 0.000241\n",
      "\n",
      "Для α = 0.7, β = 0.9\n",
      "\tNNI = 0.138747 и \n",
      "\t TI = 0.139109\n",
      "Ошибка составила 0.000362\n",
      "\n",
      "Для α = 0.9, β = 1.1\n",
      "\tNNI = 0.109498 и \n",
      "\t TI = 0.107880\n",
      "Ошибка составила 0.001618\n",
      "\n",
      "Средняя ошибка составила 0.000519\n"
     ]
    }
   ],
   "source": [
    "errors = []\n",
    "\n",
    "for i in range(len(NNI)): \n",
    "    print(f\"Для α = {float(alphas[i]):.1f}, β = {float(betas[i]):.1f}\\n\\tNNI = {float(NNI[i]):.6f} и \\n\\t TI = {float(TI[i]):.6f}\")\n",
    "    error = np.abs(NNI[i] - TI[i])\n",
    "    print(f\"Ошибка составила {float(error):.6f}\\n\")\n",
    "    errors.append(error)\n",
    "\n",
    "print(f\"Средняя ошибка составила {float(sum(errors) / len(errors)):.6f}\")"
   ]
  },
  {
   "cell_type": "markdown",
   "id": "e3ae48bc-76cc-4834-a239-56b4f96c91ce",
   "metadata": {},
   "source": [
    "Таким образом нам удалось применить нейросетевой подход для интегрирования функции \n",
    "одной переменной $ f(x) = cos(x) $ и представленная, относительно наивная имплементация\n",
    "позволила обеспечить точность в среднем 3 знака после запятой."
   ]
  }
 ],
 "metadata": {
  "kernelspec": {
   "display_name": "Python 3 (ipykernel)",
   "language": "python",
   "name": "python3"
  },
  "language_info": {
   "codemirror_mode": {
    "name": "ipython",
    "version": 3
   },
   "file_extension": ".py",
   "mimetype": "text/x-python",
   "name": "python",
   "nbconvert_exporter": "python",
   "pygments_lexer": "ipython3",
   "version": "3.12.6"
  }
 },
 "nbformat": 4,
 "nbformat_minor": 5
}
