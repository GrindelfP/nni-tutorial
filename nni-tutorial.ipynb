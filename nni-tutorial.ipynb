{
 "cells": [
  {
   "cell_type": "markdown",
   "id": "629469f6-85f4-491b-8328-9c0979114c0b",
   "metadata": {},
   "source": [
    "# Туториал по нейросетевому подходу к численному интегрированию функции одной переменной\n",
    "\n",
    "__Задача__: использовать нейросеть архитектуры MLP для численного интегрирования функции одной переменной.\n",
    "\n",
    "__Использованные источники__: \n",
    "\n",
    "* Lloyd S., Irani R. A., Ahmadi M. Using neural networks for fast numerical integration and optimization //\n",
    "IEEE Access. — 2020. — Т. 8. — С. 84519—84531.\n",
    "* [Документация по Keras](https://www.tensorflow.org/guide/keras)\n",
    "* [Документация по NumPy](https://numpy.org/doc/)\n",
    "* [Документация по Mpmath](https://mpmath.org/doc/current/index.html)\n",
    "\n",
    "## Немного теории\n",
    "\n",
    "Численным интегралом функции одной переменной называют выражение вида:\n",
    "\n",
    "$ I(f) = \\int_{a}^{b} dx \\{f(x)\\} $ (1) \n",
    "\n",
    "В некоторых случаях неопределенный интеграл функции $f(x)$ может быть получен аналитически,\n",
    "и тогда определенный интеграл можно выразить как \n",
    "\n",
    "$\\int_{a}^{b} dx \\{f(x)\\} = F(b) - F(a)$, (2)\n",
    "\n",
    "где $F(x) = \\int dx \\{f(x)\\}$,\n",
    "но иногда аналитическую форму сложно или невозможно получить и тогда прибегают к помощи численных \n",
    "методов.\n",
    "\n",
    "Применить нейросетевой подход возможно образом, описаным далее.\n",
    "\n",
    "__1. Нейросеть можно представить аналитически__\n",
    "\n",
    "Нейросеть, так как она является лишь набором математических операций над числами в определенной \n",
    "последовательности, можно представить как некоторую функцию $\\hat{f}(X)$, которая может быть \n",
    "задана аналитически:\n",
    "\n",
    "$ \\hat{f}(X) = b^{(2)} + W^{(2)T}\\phi(b^{(1)}+W^{(1)}X) $ (3)\n",
    "\n",
    "-- такое аналитическое представление имеет многослойный перцептрон (MLP) с одним скрытым слоем и \n",
    "функцией активации только на скрытом слое, где\n",
    "\n",
    "$ W^{(1)}, W^{(2)} $ - векторы весов нейросети,\n",
    "\n",
    "$ b^{(1)}, b^{(2)} $ - векторы смещений нейросети.\n",
    "\n",
    "$ X $ - множество входных параметров (для функции одной переменной $|X| = 1$ и в дальнейшем будет \n",
    "указываться как $x$),\n",
    "\n",
    "$ \\phi(•) $ - функция активации скрытого слоя.\n",
    "\n",
    "__2. Возможность аналитического интегрирования нейросети__\n",
    "\n",
    "Приведенное выше аналитическое представление нейросети в зависимости от вида функции активации \n",
    "$ \\phi $ возможно интегрировать аналитически. Это даёт возможность получить определенный интеграл \n",
    "нейросети $ \\hat{f}(x) $ по формуле (2).\n",
    "\n",
    "Представим нейросеть с помощью сумм:\n",
    "\n",
    "$ \\hat{f}(x) = b^{(2)} + \\sum_{j=1}^{k}w_j^{(2)}\\phi(b_j^{(1)}+w_{1j}^{(1)}x) $ (4),\n",
    "\n",
    "где $ k $ - число нейронов скрытого слоя.\n",
    "\n",
    "В данной архитектуре воспользуемся функцией активации *логистическая сигмоида*:\n",
    "\n",
    "$ \\phi(•) = \\frac{1}{1 + e^{-(•)}} $ (5)\n",
    " \n",
    "Для того, чтобы облегчить интегрирование нейросети воспользуемся выражением \n",
    "полилогарифма 0-го порядка и получим интеграл нейросети $\\hat{f}(x)$, обозначив полученный интеграл \n",
    "$ \\hat{I}(f) $:\n",
    "\n",
    "$ \\hat{I}(f) = \\int_{\\alpha}^{\\beta} dx [b^{(2)} + \\sum_{j=1}^{k}w_j^{(2)}\\phi(b_j^{(1)}+w_{1j}^{(1)}x)] = $\n",
    "\n",
    "$ = b^{(2)}(\\beta - \\alpha) + \\sum_{j=1}^{k}w_{j}^{(2)}[(\\beta - \\alpha) + \\frac{\\Phi_{j}}{w_{1j}^{(1)}} ] $ (6.1)\n",
    "\n",
    "$ \\Phi_j = Li_1(-exp[-b_j^{(1)} - w_{1j}^{(1)}\\alpha]) - Li_1(-exp[-b_j^{(1)} - w_{1j}^{(1)}\\beta]) $ (6.2)\n",
    "\n",
    "Как видно выше, формулы (6.1) и (6.2) позволяют, зная веса и смещения нейросети получить значение определенного \n",
    "интеграла нейросети $ \\hat{f}(x) $.\n",
    "\n",
    "Как же это может помочь нам в численном интегрировании нашей изначальной функции?\n",
    "\n",
    "__3. Нейросетевое численное интегрирование__\n",
    "\n",
    "Давайте попробуем аппроксимировать функцию $ f(x) $ нейросетью $ \\hat{f}(x) $. Зная вид функции $ f(x) $ и \n",
    "её область определения $ A $ мы имеем возможность создать обучающее и тестовое множество \n",
    "$ TRAIN = \\{ (x, y) | x \\in A, y = f(x) \\},$ $TEST = \\{ (x, y) | x \\in A, y = f(x) \\}$ и провести \n",
    "процедуру обучения нейросети $ \\hat{f}(x) $.\n",
    "\n",
    "После достижения удовлетворяющей нас точности мы можем предположить, что данная нейросеть $ \\hat{f}(x) $ \n",
    "аппроксимирует $ f(x) $, то есть, проще говоря, для любого $ x \\in A $ значение \n",
    "$ \\hat{f}(x) $ достаточно близко значению $ f(x) $:\n",
    "\n",
    "$ |\\hat{f}(x) - f(x)| < \\epsilon $,\n",
    "\n",
    "где $ \\epsilon $ - удовлетворяющая нас погрешность.\n",
    "\n",
    "Но пора перейти к практике и испробовать данный подход!"
   ]
  },
  {
   "cell_type": "markdown",
   "id": "20dc4776-4616-4cae-bbc8-3cef4751d7c1",
   "metadata": {},
   "source": [
    "## Импорт необходимых библиотек\n",
    "\n",
    "* Tensorflow Keras - работа с нейросетью.\n",
    "* NumPy - работа с массивами данных и операциями над ними.\n",
    "* Matplotlib - визуализация данных.\n",
    "* Mpmath - необходим для имплементации полилогарифма."
   ]
  },
  {
   "cell_type": "code",
   "execution_count": 118,
   "id": "766c8d63-ee9f-4847-84a7-8343a962cb39",
   "metadata": {},
   "outputs": [],
   "source": [
    "import tensorflow as tf\n",
    "from tensorflow.keras import layers, models, optimizers\n",
    "import numpy as np\n",
    "import matplotlib.pyplot as plt\n",
    "import math\n",
    "\n",
    "from mpmath import polylog\n",
    "\n",
    "from tensorflow import keras\n",
    "from tensorflow.keras.layers import Dense, Input\n",
    "from tensorflow.keras.utils import plot_model\n",
    "from tensorflow.keras import models\n",
    "from tensorflow.keras import layers\n",
    "from tensorflow.keras import utils\n",
    "\n",
    "from sklearn.model_selection import train_test_split\n"
   ]
  },
  {
   "cell_type": "markdown",
   "id": "877ad9a8-cc8c-4c81-a8c1-60df3c69f890",
   "metadata": {},
   "source": [
    "### Функция $f(x)$ и функция-генератор датасета\n",
    "\n",
    "Будем тренировать модель аппроксимировать простую функцию $ f(x) = cos(x) $.\n",
    "\n",
    "Определим функцию $ f(x) $ и функцию-генератор датасета."
   ]
  },
  {
   "cell_type": "code",
   "execution_count": 122,
   "id": "70030858-ce8d-43ef-9f5e-6e0a855fcfb7",
   "metadata": {},
   "outputs": [],
   "source": [
    "def f_cos(x):\n",
    "    return np.cos(x)"
   ]
  },
  {
   "cell_type": "code",
   "execution_count": 123,
   "id": "9e157275-a9b5-42ba-b014-086469154cc6",
   "metadata": {},
   "outputs": [],
   "source": [
    "def generate_data(func, size=100):\n",
    "    x = np.linspace(0, 1, size) \n",
    "    # вектор размера size из случайно сгенерированных !!!!!!! КАК? аргументов функции \n",
    "    y = func(x) # вектор значений функции\n",
    "    return x, y"
   ]
  },
  {
   "cell_type": "markdown",
   "id": "783d2f81-4441-49d7-bd5d-27fbe2b6414b",
   "metadata": {},
   "source": [
    "## Определение первой модели"
   ]
  },
  {
   "cell_type": "code",
   "execution_count": 287,
   "id": "29f74521-32e9-4672-ade3-c1832586cc51",
   "metadata": {},
   "outputs": [
    {
     "data": {
      "text/html": [
       "<pre style=\"white-space:pre;overflow-x:auto;line-height:normal;font-family:Menlo,'DejaVu Sans Mono',consolas,'Courier New',monospace\"><span style=\"font-weight: bold\">Model: \"sequential_4\"</span>\n",
       "</pre>\n"
      ],
      "text/plain": [
       "\u001b[1mModel: \"sequential_4\"\u001b[0m\n"
      ]
     },
     "metadata": {},
     "output_type": "display_data"
    },
    {
     "data": {
      "text/html": [
       "<pre style=\"white-space:pre;overflow-x:auto;line-height:normal;font-family:Menlo,'DejaVu Sans Mono',consolas,'Courier New',monospace\">┏━━━━━━━━━━━━━━━━━━━━━━━━━━━━━━━━━┳━━━━━━━━━━━━━━━━━━━━━━━━┳━━━━━━━━━━━━━━━┓\n",
       "┃<span style=\"font-weight: bold\"> Layer (type)                    </span>┃<span style=\"font-weight: bold\"> Output Shape           </span>┃<span style=\"font-weight: bold\">       Param # </span>┃\n",
       "┡━━━━━━━━━━━━━━━━━━━━━━━━━━━━━━━━━╇━━━━━━━━━━━━━━━━━━━━━━━━╇━━━━━━━━━━━━━━━┩\n",
       "│ dense_22 (<span style=\"color: #0087ff; text-decoration-color: #0087ff\">Dense</span>)                │ (<span style=\"color: #00d7ff; text-decoration-color: #00d7ff\">None</span>, <span style=\"color: #00af00; text-decoration-color: #00af00\">10</span>)             │            <span style=\"color: #00af00; text-decoration-color: #00af00\">20</span> │\n",
       "├─────────────────────────────────┼────────────────────────┼───────────────┤\n",
       "│ dense_23 (<span style=\"color: #0087ff; text-decoration-color: #0087ff\">Dense</span>)                │ (<span style=\"color: #00d7ff; text-decoration-color: #00d7ff\">None</span>, <span style=\"color: #00af00; text-decoration-color: #00af00\">1</span>)              │            <span style=\"color: #00af00; text-decoration-color: #00af00\">11</span> │\n",
       "└─────────────────────────────────┴────────────────────────┴───────────────┘\n",
       "</pre>\n"
      ],
      "text/plain": [
       "┏━━━━━━━━━━━━━━━━━━━━━━━━━━━━━━━━━┳━━━━━━━━━━━━━━━━━━━━━━━━┳━━━━━━━━━━━━━━━┓\n",
       "┃\u001b[1m \u001b[0m\u001b[1mLayer (type)                   \u001b[0m\u001b[1m \u001b[0m┃\u001b[1m \u001b[0m\u001b[1mOutput Shape          \u001b[0m\u001b[1m \u001b[0m┃\u001b[1m \u001b[0m\u001b[1m      Param #\u001b[0m\u001b[1m \u001b[0m┃\n",
       "┡━━━━━━━━━━━━━━━━━━━━━━━━━━━━━━━━━╇━━━━━━━━━━━━━━━━━━━━━━━━╇━━━━━━━━━━━━━━━┩\n",
       "│ dense_22 (\u001b[38;5;33mDense\u001b[0m)                │ (\u001b[38;5;45mNone\u001b[0m, \u001b[38;5;34m10\u001b[0m)             │            \u001b[38;5;34m20\u001b[0m │\n",
       "├─────────────────────────────────┼────────────────────────┼───────────────┤\n",
       "│ dense_23 (\u001b[38;5;33mDense\u001b[0m)                │ (\u001b[38;5;45mNone\u001b[0m, \u001b[38;5;34m1\u001b[0m)              │            \u001b[38;5;34m11\u001b[0m │\n",
       "└─────────────────────────────────┴────────────────────────┴───────────────┘\n"
      ]
     },
     "metadata": {},
     "output_type": "display_data"
    },
    {
     "data": {
      "text/html": [
       "<pre style=\"white-space:pre;overflow-x:auto;line-height:normal;font-family:Menlo,'DejaVu Sans Mono',consolas,'Courier New',monospace\"><span style=\"font-weight: bold\"> Total params: </span><span style=\"color: #00af00; text-decoration-color: #00af00\">31</span> (124.00 B)\n",
       "</pre>\n"
      ],
      "text/plain": [
       "\u001b[1m Total params: \u001b[0m\u001b[38;5;34m31\u001b[0m (124.00 B)\n"
      ]
     },
     "metadata": {},
     "output_type": "display_data"
    },
    {
     "data": {
      "text/html": [
       "<pre style=\"white-space:pre;overflow-x:auto;line-height:normal;font-family:Menlo,'DejaVu Sans Mono',consolas,'Courier New',monospace\"><span style=\"font-weight: bold\"> Trainable params: </span><span style=\"color: #00af00; text-decoration-color: #00af00\">31</span> (124.00 B)\n",
       "</pre>\n"
      ],
      "text/plain": [
       "\u001b[1m Trainable params: \u001b[0m\u001b[38;5;34m31\u001b[0m (124.00 B)\n"
      ]
     },
     "metadata": {},
     "output_type": "display_data"
    },
    {
     "data": {
      "text/html": [
       "<pre style=\"white-space:pre;overflow-x:auto;line-height:normal;font-family:Menlo,'DejaVu Sans Mono',consolas,'Courier New',monospace\"><span style=\"font-weight: bold\"> Non-trainable params: </span><span style=\"color: #00af00; text-decoration-color: #00af00\">0</span> (0.00 B)\n",
       "</pre>\n"
      ],
      "text/plain": [
       "\u001b[1m Non-trainable params: \u001b[0m\u001b[38;5;34m0\u001b[0m (0.00 B)\n"
      ]
     },
     "metadata": {},
     "output_type": "display_data"
    }
   ],
   "source": [
    "first_model = keras.Sequential([\n",
    "    Input(shape=(1,)),\n",
    "    Dense(10, activation='sigmoid'),\n",
    "    Dense(1)\n",
    "])\n",
    "\n",
    "test_model.summary()"
   ]
  },
  {
   "cell_type": "markdown",
   "id": "9fc5c837-2cac-47a2-b6ae-1870b5885872",
   "metadata": {},
   "source": [
    "У скрытого слоя 20 параметров: (1 нейрон + 1 смещение) * число_нейронов_скрытого_слоя,\n",
    "у выходного слоя 10 параметров: 10 нейронов + 1 смещение."
   ]
  },
  {
   "cell_type": "markdown",
   "id": "d9ca6dd3-d836-4088-bfb0-1bf215f45173",
   "metadata": {},
   "source": [
    "### Гиперпараметры модели"
   ]
  },
  {
   "cell_type": "code",
   "execution_count": 288,
   "id": "b38f1ac6-65bc-4097-adf3-5a26354fc281",
   "metadata": {},
   "outputs": [],
   "source": [
    "input_size = 1 # так как у f(x) один параметр\n",
    "hidden_size = 200 # число скрытых нейронов - можно варьировать\n",
    "learning_rate = 0.001 # скорость обучения - можно варьировать\n",
    "num_epochs = 500 # число эпох обучения - можно варьировать\n",
    "samples = 10000 # мощность обучающего и тестового множеств - можно варьировать"
   ]
  },
  {
   "cell_type": "markdown",
   "id": "4891a74e-3938-4071-baf6-7d56f874359e",
   "metadata": {},
   "source": [
    "### Генерация датасета и разделение на обучающую и тестовую выборки"
   ]
  },
  {
   "cell_type": "code",
   "execution_count": 289,
   "id": "79a3df39-9870-4097-b120-e4dbb18ec4a8",
   "metadata": {},
   "outputs": [],
   "source": [
    "X, Y = generate_data(f_cos, 10000)"
   ]
  },
  {
   "cell_type": "code",
   "execution_count": 290,
   "id": "8689a73f-1065-45fa-9dc7-fc86e4bcbc5b",
   "metadata": {},
   "outputs": [],
   "source": [
    "x_train, x_test, y_train, y_test = train_test_split(X, Y, test_size = 0.2)"
   ]
  },
  {
   "cell_type": "code",
   "execution_count": 291,
   "id": "d23b62bc-2d69-484e-ace9-ae3c7ce003ce",
   "metadata": {},
   "outputs": [],
   "source": [
    "first_model.compile(optimizer=optimizers.Adam(learning_rate=learning_rate), loss='mse')"
   ]
  },
  {
   "cell_type": "code",
   "execution_count": 292,
   "id": "74bc4bc2-401f-497b-96af-39a42430b45e",
   "metadata": {},
   "outputs": [],
   "source": [
    "callbacks = [tf.keras.callbacks.EarlyStopping(patience=10, monitor='val_loss')]"
   ]
  },
  {
   "cell_type": "code",
   "execution_count": 293,
   "id": "7e9eb314-502d-4740-b5da-c338a4ab99ea",
   "metadata": {
    "scrolled": true
   },
   "outputs": [
    {
     "name": "stdout",
     "output_type": "stream",
     "text": [
      "Epoch 1/500\n",
      "200/200 - 0s - 2ms/step - loss: 0.2497 - val_loss: 0.0290\n",
      "Epoch 2/500\n",
      "200/200 - 0s - 500us/step - loss: 0.0237 - val_loss: 0.0208\n",
      "Epoch 3/500\n",
      "200/200 - 0s - 499us/step - loss: 0.0190 - val_loss: 0.0168\n",
      "Epoch 4/500\n",
      "200/200 - 0s - 490us/step - loss: 0.0149 - val_loss: 0.0128\n",
      "Epoch 5/500\n",
      "200/200 - 0s - 498us/step - loss: 0.0111 - val_loss: 0.0093\n",
      "Epoch 6/500\n",
      "200/200 - 0s - 490us/step - loss: 0.0078 - val_loss: 0.0064\n",
      "Epoch 7/500\n",
      "200/200 - 0s - 486us/step - loss: 0.0052 - val_loss: 0.0043\n",
      "Epoch 8/500\n",
      "200/200 - 0s - 498us/step - loss: 0.0034 - val_loss: 0.0028\n",
      "Epoch 9/500\n",
      "200/200 - 0s - 491us/step - loss: 0.0023 - val_loss: 0.0020\n",
      "Epoch 10/500\n",
      "200/200 - 0s - 522us/step - loss: 0.0017 - val_loss: 0.0015\n",
      "Epoch 11/500\n",
      "200/200 - 0s - 491us/step - loss: 0.0014 - val_loss: 0.0013\n",
      "Epoch 12/500\n",
      "200/200 - 0s - 492us/step - loss: 0.0013 - val_loss: 0.0012\n",
      "Epoch 13/500\n",
      "200/200 - 0s - 481us/step - loss: 0.0012 - val_loss: 0.0012\n",
      "Epoch 14/500\n",
      "200/200 - 0s - 506us/step - loss: 0.0012 - val_loss: 0.0012\n",
      "Epoch 15/500\n",
      "200/200 - 0s - 496us/step - loss: 0.0012 - val_loss: 0.0012\n",
      "Epoch 16/500\n",
      "200/200 - 0s - 481us/step - loss: 0.0012 - val_loss: 0.0012\n",
      "Epoch 17/500\n",
      "200/200 - 0s - 488us/step - loss: 0.0012 - val_loss: 0.0012\n",
      "Epoch 18/500\n",
      "200/200 - 0s - 498us/step - loss: 0.0012 - val_loss: 0.0012\n",
      "Epoch 19/500\n",
      "200/200 - 0s - 501us/step - loss: 0.0012 - val_loss: 0.0012\n",
      "Epoch 20/500\n",
      "200/200 - 0s - 510us/step - loss: 0.0012 - val_loss: 0.0011\n",
      "Epoch 21/500\n",
      "200/200 - 0s - 496us/step - loss: 0.0011 - val_loss: 0.0011\n",
      "Epoch 22/500\n",
      "200/200 - 0s - 492us/step - loss: 0.0011 - val_loss: 0.0011\n",
      "Epoch 23/500\n",
      "200/200 - 0s - 483us/step - loss: 0.0011 - val_loss: 0.0011\n",
      "Epoch 24/500\n",
      "200/200 - 0s - 491us/step - loss: 0.0011 - val_loss: 0.0011\n",
      "Epoch 25/500\n",
      "200/200 - 0s - 487us/step - loss: 0.0011 - val_loss: 0.0011\n",
      "Epoch 26/500\n",
      "200/200 - 0s - 487us/step - loss: 0.0011 - val_loss: 0.0011\n",
      "Epoch 27/500\n",
      "200/200 - 0s - 481us/step - loss: 0.0011 - val_loss: 0.0011\n",
      "Epoch 28/500\n",
      "200/200 - 0s - 486us/step - loss: 0.0011 - val_loss: 0.0011\n",
      "Epoch 29/500\n",
      "200/200 - 0s - 497us/step - loss: 0.0011 - val_loss: 0.0011\n",
      "Epoch 30/500\n",
      "200/200 - 0s - 485us/step - loss: 0.0011 - val_loss: 0.0011\n",
      "Epoch 31/500\n",
      "200/200 - 0s - 492us/step - loss: 0.0011 - val_loss: 0.0011\n",
      "Epoch 32/500\n",
      "200/200 - 0s - 486us/step - loss: 0.0011 - val_loss: 0.0011\n",
      "Epoch 33/500\n",
      "200/200 - 0s - 483us/step - loss: 0.0011 - val_loss: 0.0010\n",
      "Epoch 34/500\n",
      "200/200 - 0s - 486us/step - loss: 0.0010 - val_loss: 0.0010\n",
      "Epoch 35/500\n",
      "200/200 - 0s - 483us/step - loss: 0.0010 - val_loss: 0.0010\n",
      "Epoch 36/500\n",
      "200/200 - 0s - 492us/step - loss: 0.0010 - val_loss: 0.0010\n",
      "Epoch 37/500\n",
      "200/200 - 0s - 479us/step - loss: 0.0010 - val_loss: 0.0010\n",
      "Epoch 38/500\n",
      "200/200 - 0s - 494us/step - loss: 0.0010 - val_loss: 0.0010\n",
      "Epoch 39/500\n",
      "200/200 - 0s - 501us/step - loss: 0.0010 - val_loss: 9.9031e-04\n",
      "Epoch 40/500\n",
      "200/200 - 0s - 493us/step - loss: 0.0010 - val_loss: 0.0011\n",
      "Epoch 41/500\n",
      "200/200 - 0s - 493us/step - loss: 0.0010 - val_loss: 9.7988e-04\n",
      "Epoch 42/500\n",
      "200/200 - 0s - 499us/step - loss: 9.9954e-04 - val_loss: 9.7363e-04\n",
      "Epoch 43/500\n",
      "200/200 - 0s - 498us/step - loss: 9.8952e-04 - val_loss: 9.6599e-04\n",
      "Epoch 44/500\n",
      "200/200 - 0s - 489us/step - loss: 9.8491e-04 - val_loss: 9.5854e-04\n",
      "Epoch 45/500\n",
      "200/200 - 0s - 492us/step - loss: 9.8359e-04 - val_loss: 9.5117e-04\n",
      "Epoch 46/500\n",
      "200/200 - 0s - 484us/step - loss: 9.7961e-04 - val_loss: 9.4386e-04\n",
      "Epoch 47/500\n",
      "200/200 - 0s - 482us/step - loss: 9.7187e-04 - val_loss: 9.5270e-04\n",
      "Epoch 48/500\n",
      "200/200 - 0s - 488us/step - loss: 9.6300e-04 - val_loss: 9.3331e-04\n",
      "Epoch 49/500\n",
      "200/200 - 0s - 486us/step - loss: 9.5567e-04 - val_loss: 9.2735e-04\n",
      "Epoch 50/500\n",
      "200/200 - 0s - 483us/step - loss: 9.5281e-04 - val_loss: 9.1822e-04\n",
      "Epoch 51/500\n",
      "200/200 - 0s - 489us/step - loss: 9.4801e-04 - val_loss: 9.2112e-04\n",
      "Epoch 52/500\n",
      "200/200 - 0s - 494us/step - loss: 9.3707e-04 - val_loss: 9.0513e-04\n",
      "Epoch 53/500\n",
      "200/200 - 0s - 501us/step - loss: 9.4534e-04 - val_loss: 9.0996e-04\n",
      "Epoch 54/500\n",
      "200/200 - 0s - 497us/step - loss: 9.2131e-04 - val_loss: 8.9337e-04\n",
      "Epoch 55/500\n",
      "200/200 - 0s - 502us/step - loss: 9.2246e-04 - val_loss: 9.0598e-04\n",
      "Epoch 56/500\n",
      "200/200 - 0s - 496us/step - loss: 9.0751e-04 - val_loss: 9.0924e-04\n",
      "Epoch 57/500\n",
      "200/200 - 0s - 496us/step - loss: 8.9381e-04 - val_loss: 8.7410e-04\n",
      "Epoch 58/500\n",
      "200/200 - 0s - 495us/step - loss: 8.9110e-04 - val_loss: 8.6453e-04\n",
      "Epoch 59/500\n",
      "200/200 - 0s - 486us/step - loss: 8.8233e-04 - val_loss: 9.1677e-04\n",
      "Epoch 60/500\n",
      "200/200 - 0s - 484us/step - loss: 8.8294e-04 - val_loss: 8.4754e-04\n",
      "Epoch 61/500\n",
      "200/200 - 0s - 490us/step - loss: 8.5933e-04 - val_loss: 8.3614e-04\n",
      "Epoch 62/500\n",
      "200/200 - 0s - 490us/step - loss: 8.5332e-04 - val_loss: 8.4288e-04\n",
      "Epoch 63/500\n",
      "200/200 - 0s - 493us/step - loss: 8.4976e-04 - val_loss: 8.2228e-04\n",
      "Epoch 64/500\n",
      "200/200 - 0s - 487us/step - loss: 8.3548e-04 - val_loss: 8.0877e-04\n",
      "Epoch 65/500\n",
      "200/200 - 0s - 481us/step - loss: 8.2835e-04 - val_loss: 7.9732e-04\n",
      "Epoch 66/500\n",
      "200/200 - 0s - 488us/step - loss: 8.1399e-04 - val_loss: 7.8519e-04\n",
      "Epoch 67/500\n",
      "200/200 - 0s - 488us/step - loss: 7.9921e-04 - val_loss: 7.7578e-04\n",
      "Epoch 68/500\n",
      "200/200 - 0s - 484us/step - loss: 7.8549e-04 - val_loss: 7.6231e-04\n",
      "Epoch 69/500\n",
      "200/200 - 0s - 485us/step - loss: 7.7822e-04 - val_loss: 7.6830e-04\n",
      "Epoch 70/500\n",
      "200/200 - 0s - 482us/step - loss: 7.6663e-04 - val_loss: 7.3682e-04\n",
      "Epoch 71/500\n",
      "200/200 - 0s - 491us/step - loss: 7.5162e-04 - val_loss: 7.2664e-04\n",
      "Epoch 72/500\n",
      "200/200 - 0s - 491us/step - loss: 7.3709e-04 - val_loss: 7.2006e-04\n",
      "Epoch 73/500\n",
      "200/200 - 0s - 485us/step - loss: 7.1798e-04 - val_loss: 6.9511e-04\n",
      "Epoch 74/500\n",
      "200/200 - 0s - 489us/step - loss: 7.1100e-04 - val_loss: 7.0659e-04\n",
      "Epoch 75/500\n",
      "200/200 - 0s - 480us/step - loss: 6.8877e-04 - val_loss: 6.9539e-04\n",
      "Epoch 76/500\n",
      "200/200 - 0s - 486us/step - loss: 6.8389e-04 - val_loss: 6.4456e-04\n",
      "Epoch 77/500\n",
      "200/200 - 0s - 490us/step - loss: 6.5174e-04 - val_loss: 6.2746e-04\n",
      "Epoch 78/500\n",
      "200/200 - 0s - 483us/step - loss: 6.3494e-04 - val_loss: 6.4929e-04\n",
      "Epoch 79/500\n",
      "200/200 - 0s - 493us/step - loss: 6.2046e-04 - val_loss: 6.2205e-04\n",
      "Epoch 80/500\n",
      "200/200 - 0s - 486us/step - loss: 5.9493e-04 - val_loss: 5.8526e-04\n",
      "Epoch 81/500\n",
      "200/200 - 0s - 492us/step - loss: 5.8490e-04 - val_loss: 5.5002e-04\n",
      "Epoch 82/500\n",
      "200/200 - 0s - 493us/step - loss: 5.6197e-04 - val_loss: 5.3425e-04\n",
      "Epoch 83/500\n",
      "200/200 - 0s - 484us/step - loss: 5.3519e-04 - val_loss: 5.1690e-04\n",
      "Epoch 84/500\n",
      "200/200 - 0s - 487us/step - loss: 5.1336e-04 - val_loss: 4.8599e-04\n",
      "Epoch 85/500\n",
      "200/200 - 0s - 489us/step - loss: 4.9256e-04 - val_loss: 4.9209e-04\n",
      "Epoch 86/500\n",
      "200/200 - 0s - 486us/step - loss: 4.6799e-04 - val_loss: 4.4189e-04\n",
      "Epoch 87/500\n",
      "200/200 - 0s - 486us/step - loss: 4.4729e-04 - val_loss: 4.2079e-04\n",
      "Epoch 88/500\n",
      "200/200 - 0s - 482us/step - loss: 4.2640e-04 - val_loss: 3.9444e-04\n",
      "Epoch 89/500\n",
      "200/200 - 0s - 487us/step - loss: 3.9697e-04 - val_loss: 3.7422e-04\n",
      "Epoch 90/500\n",
      "200/200 - 0s - 487us/step - loss: 3.6783e-04 - val_loss: 3.7019e-04\n",
      "Epoch 91/500\n",
      "200/200 - 0s - 487us/step - loss: 3.4670e-04 - val_loss: 3.2060e-04\n",
      "Epoch 92/500\n",
      "200/200 - 0s - 484us/step - loss: 3.2056e-04 - val_loss: 3.2596e-04\n",
      "Epoch 93/500\n",
      "200/200 - 0s - 488us/step - loss: 2.9616e-04 - val_loss: 2.8509e-04\n",
      "Epoch 94/500\n",
      "200/200 - 0s - 483us/step - loss: 2.6824e-04 - val_loss: 2.7150e-04\n",
      "Epoch 95/500\n",
      "200/200 - 0s - 487us/step - loss: 2.4243e-04 - val_loss: 2.2334e-04\n",
      "Epoch 96/500\n",
      "200/200 - 0s - 483us/step - loss: 2.1787e-04 - val_loss: 2.0117e-04\n",
      "Epoch 97/500\n",
      "200/200 - 0s - 488us/step - loss: 1.9563e-04 - val_loss: 1.7526e-04\n",
      "Epoch 98/500\n",
      "200/200 - 0s - 490us/step - loss: 1.7046e-04 - val_loss: 1.7365e-04\n",
      "Epoch 99/500\n",
      "200/200 - 0s - 489us/step - loss: 1.4746e-04 - val_loss: 1.2987e-04\n",
      "Epoch 100/500\n",
      "200/200 - 0s - 490us/step - loss: 1.2584e-04 - val_loss: 1.0986e-04\n",
      "Epoch 101/500\n",
      "200/200 - 0s - 482us/step - loss: 1.0409e-04 - val_loss: 9.1097e-05\n",
      "Epoch 102/500\n",
      "200/200 - 0s - 482us/step - loss: 8.5674e-05 - val_loss: 7.3357e-05\n",
      "Epoch 103/500\n",
      "200/200 - 0s - 486us/step - loss: 6.8132e-05 - val_loss: 6.0350e-05\n",
      "Epoch 104/500\n",
      "200/200 - 0s - 490us/step - loss: 5.3507e-05 - val_loss: 4.3749e-05\n",
      "Epoch 105/500\n",
      "200/200 - 0s - 1ms/step - loss: 4.0127e-05 - val_loss: 3.2982e-05\n",
      "Epoch 106/500\n",
      "200/200 - 0s - 485us/step - loss: 2.8904e-05 - val_loss: 2.3449e-05\n",
      "Epoch 107/500\n",
      "200/200 - 0s - 486us/step - loss: 2.0988e-05 - val_loss: 1.6167e-05\n",
      "Epoch 108/500\n",
      "200/200 - 0s - 479us/step - loss: 1.4126e-05 - val_loss: 1.0785e-05\n",
      "Epoch 109/500\n",
      "200/200 - 0s - 487us/step - loss: 9.6185e-06 - val_loss: 7.2397e-06\n",
      "Epoch 110/500\n",
      "200/200 - 0s - 484us/step - loss: 6.3590e-06 - val_loss: 5.0506e-06\n",
      "Epoch 111/500\n",
      "200/200 - 0s - 482us/step - loss: 4.5999e-06 - val_loss: 3.5380e-06\n",
      "Epoch 112/500\n",
      "200/200 - 0s - 490us/step - loss: 3.3775e-06 - val_loss: 2.7795e-06\n",
      "Epoch 113/500\n",
      "200/200 - 0s - 492us/step - loss: 2.7925e-06 - val_loss: 2.5044e-06\n",
      "Epoch 114/500\n",
      "200/200 - 0s - 487us/step - loss: 2.4945e-06 - val_loss: 2.8387e-06\n",
      "Epoch 115/500\n",
      "200/200 - 0s - 487us/step - loss: 2.4732e-06 - val_loss: 2.3662e-06\n",
      "Epoch 116/500\n",
      "200/200 - 0s - 487us/step - loss: 2.3985e-06 - val_loss: 2.5007e-06\n",
      "Epoch 117/500\n",
      "200/200 - 0s - 489us/step - loss: 2.5380e-06 - val_loss: 2.1597e-06\n",
      "Epoch 118/500\n",
      "200/200 - 0s - 478us/step - loss: 2.4415e-06 - val_loss: 2.1256e-06\n",
      "Epoch 119/500\n",
      "200/200 - 0s - 487us/step - loss: 2.3783e-06 - val_loss: 2.0826e-06\n",
      "Epoch 120/500\n",
      "200/200 - 0s - 488us/step - loss: 2.5230e-06 - val_loss: 2.1360e-06\n",
      "Epoch 121/500\n",
      "200/200 - 0s - 480us/step - loss: 2.4133e-06 - val_loss: 2.1170e-06\n",
      "Epoch 122/500\n",
      "200/200 - 0s - 490us/step - loss: 2.3540e-06 - val_loss: 2.0680e-06\n",
      "Epoch 123/500\n",
      "200/200 - 0s - 495us/step - loss: 2.4206e-06 - val_loss: 2.1909e-06\n",
      "Epoch 124/500\n",
      "200/200 - 0s - 482us/step - loss: 2.4393e-06 - val_loss: 2.1956e-06\n",
      "Epoch 125/500\n",
      "200/200 - 0s - 482us/step - loss: 2.6713e-06 - val_loss: 3.7318e-06\n",
      "Epoch 126/500\n",
      "200/200 - 0s - 485us/step - loss: 2.4877e-06 - val_loss: 2.0677e-06\n",
      "Epoch 127/500\n",
      "200/200 - 0s - 482us/step - loss: 2.6138e-06 - val_loss: 2.6781e-06\n",
      "Epoch 128/500\n",
      "200/200 - 0s - 485us/step - loss: 2.5389e-06 - val_loss: 1.9781e-06\n",
      "Epoch 129/500\n",
      "200/200 - 0s - 490us/step - loss: 2.4761e-06 - val_loss: 1.9953e-06\n",
      "Epoch 130/500\n",
      "200/200 - 0s - 487us/step - loss: 2.5476e-06 - val_loss: 1.9798e-06\n",
      "Epoch 131/500\n",
      "200/200 - 0s - 479us/step - loss: 2.4599e-06 - val_loss: 3.0396e-06\n",
      "Epoch 132/500\n",
      "200/200 - 0s - 489us/step - loss: 2.4180e-06 - val_loss: 2.7070e-06\n",
      "Epoch 133/500\n",
      "200/200 - 0s - 481us/step - loss: 2.3886e-06 - val_loss: 2.7058e-06\n",
      "Epoch 134/500\n",
      "200/200 - 0s - 489us/step - loss: 2.4406e-06 - val_loss: 2.6886e-06\n",
      "Epoch 135/500\n",
      "200/200 - 0s - 482us/step - loss: 2.4658e-06 - val_loss: 2.1632e-06\n",
      "Epoch 136/500\n",
      "200/200 - 0s - 489us/step - loss: 2.5288e-06 - val_loss: 2.1774e-06\n",
      "Epoch 137/500\n",
      "200/200 - 0s - 478us/step - loss: 2.4377e-06 - val_loss: 2.1331e-06\n",
      "Epoch 138/500\n",
      "200/200 - 0s - 492us/step - loss: 2.5036e-06 - val_loss: 3.5133e-06\n"
     ]
    }
   ],
   "source": [
    "history = first_model.fit(x_train, y_train, epochs=num_epochs, verbose=2, validation_split=0.2, callbacks=callbacks)"
   ]
  },
  {
   "cell_type": "code",
   "execution_count": 294,
   "id": "96aa8f57-cae6-48f5-8122-065e06217a7b",
   "metadata": {},
   "outputs": [
    {
     "data": {
      "image/png": "[encoded data removed]",
      "text/plain": [
       "<Figure size 640x480 with 1 Axes>"
      ]
     },
     "metadata": {},
     "output_type": "display_data"
    }
   ],
   "source": [
    "loss = first_model.history.history['loss']\n",
    "val_loss = first_model.history.history['val_loss']\n",
    "\n",
    "plt.figure()\n",
    "plt.plot( loss, 'r', label='Training loss')\n",
    "plt.plot( val_loss, 'bo', label='Validation loss')\n",
    "plt.title('Training and Validation Loss')\n",
    "plt.xlabel('Epoch')\n",
    "plt.ylabel('Loss Value')\n",
    "plt.legend()\n",
    "plt.show()"
   ]
  },
  {
   "cell_type": "code",
   "execution_count": 295,
   "id": "5449c4e7-b492-48da-b536-a869a329dfe5",
   "metadata": {},
   "outputs": [
    {
     "name": "stdout",
     "output_type": "stream",
     "text": [
      "\u001b[1m63/63\u001b[0m \u001b[32m━━━━━━━━━━━━━━━━━━━━\u001b[0m\u001b[37m\u001b[0m \u001b[1m0s\u001b[0m 409us/step - loss: 3.3225e-06\n",
      "Test loss: 0.000003\n"
     ]
    }
   ],
   "source": [
    "test_loss = first_model.evaluate(x_test, y_test)\n",
    "print(f\"Test loss: {test_loss:.6f}\")"
   ]
  },
  {
   "cell_type": "code",
   "execution_count": 296,
   "id": "5cb81604-7d30-41ce-95e2-ada4d54451ed",
   "metadata": {},
   "outputs": [],
   "source": [
    "def extract_model_params(model):\n",
    "    b1 = model.layers[0].get_weights()[1]\n",
    "    w1 = model.layers[0].get_weights()[0]\n",
    "    b2 = model.layers[1].get_weights()[1]\n",
    "    w2 = model.layers[1].get_weights()[0]\n",
    "\n",
    "    b1 = np.reshape(b1, (-1,))\n",
    "    w1 = np.reshape(w1, (-1,))\n",
    "    b2 = np.reshape(b2, (-1,))\n",
    "    w2 = np.reshape(w2, (-1,))\n",
    "\n",
    "    return b1, w1, b2, w2"
   ]
  },
  {
   "cell_type": "code",
   "execution_count": 297,
   "id": "0e236cbe-46fe-4496-9d89-1d1670314f20",
   "metadata": {},
   "outputs": [
    {
     "data": {
      "text/plain": [
       "((10,), (10,), (1,), (10,))"
      ]
     },
     "execution_count": 297,
     "metadata": {},
     "output_type": "execute_result"
    }
   ],
   "source": [
    "b1, w1, b2, w2 = extract_model_params(first_model)\n",
    "b1.shape, w1.shape, b2.shape, w2.shape"
   ]
  },
  {
   "cell_type": "code",
   "execution_count": 298,
   "id": "014e55a1-f3de-4a94-a62b-b2a41647eddf",
   "metadata": {},
   "outputs": [],
   "source": [
    "alpha = 0\n",
    "beta = 1"
   ]
  },
  {
   "cell_type": "code",
   "execution_count": 299,
   "id": "05123c63-e636-46b1-8b9d-05c8eb5bc659",
   "metadata": {},
   "outputs": [],
   "source": [
    "def get_NN_analytical_integral(alpha, beta, b1, b2, weights_w1, weights_w2):\n",
    "\n",
    "    def compute_phi_j(b1_j, w1_j, alpha, beta):\n",
    "        term_alpha = polylog(1, -np.exp(-b1_j - w1_j * alpha))\n",
    "        term_beta = polylog(1, -np.exp(-b1_j - w1_j * beta))\n",
    "        return term_alpha - term_beta\n",
    "\n",
    "    integral_sum = 0\n",
    "    for w2, w1, b1_j in zip(weights_w2, weights_w1, b1):\n",
    "        phi_j = compute_phi_j(b1_j, w1, alpha, beta)\n",
    "        integral_sum += w2 * ((beta - alpha) + phi_j / w1)\n",
    "    \n",
    "    return b2 * (beta - alpha) + integral_sum"
   ]
  },
  {
   "cell_type": "code",
   "execution_count": 300,
   "id": "fbfa106e-9839-4020-a14e-3be6469e3be3",
   "metadata": {},
   "outputs": [
    {
     "name": "stdout",
     "output_type": "stream",
     "text": [
      "The analytical integral of cos(x) of the trained neural network model is: 0.840212\n"
     ]
    },
    {
     "name": "stderr",
     "output_type": "stream",
     "text": [
      "/var/folders/df/v02b0vfx2tbc5plrdx4v6gk80000gn/T/ipykernel_60701/4274873537.py:2: DeprecationWarning: Conversion of an array with ndim > 0 to a scalar is deprecated, and will error in future. Ensure you extract a single element from your array before performing this operation. (Deprecated NumPy 1.25.)\n",
      "  print(f\"The analytical integral of cos(x) of the trained neural network model is: {float(integral_cos):.6f}\")\n"
     ]
    }
   ],
   "source": [
    "integral_cos = get_NN_analytical_integral(alpha, beta, b1, b2, w1, w2)\n",
    "print(f\"The analytical integral of cos(x) of the trained neural network model is: {float(integral_cos):.6f}\")"
   ]
  },
  {
   "cell_type": "code",
   "execution_count": 301,
   "id": "c6a5dfe8-761f-4873-9d81-1f17a38c4a36",
   "metadata": {},
   "outputs": [
    {
     "name": "stdout",
     "output_type": "stream",
     "text": [
      "The true ntegral of cos(x) is: 0.841471\n"
     ]
    }
   ],
   "source": [
    "true_integral_cos = np.sin(beta) - np.sin(alpha)\n",
    "print(f\"The true ntegral of cos(x) is: {float(true_integral_cos):.6f}\")"
   ]
  },
  {
   "cell_type": "code",
   "execution_count": null,
   "id": "96078d8d-a057-40d6-b9de-adc08a8931ee",
   "metadata": {},
   "outputs": [],
   "source": []
  },
  {
   "cell_type": "code",
   "execution_count": null,
   "id": "5dffd225-875f-4ac6-8619-d0989847ab88",
   "metadata": {},
   "outputs": [],
   "source": []
  }
 ],
 "metadata": {
  "kernelspec": {
   "display_name": "Python 3 (ipykernel)",
   "language": "python",
   "name": "python3"
  },
  "language_info": {
   "codemirror_mode": {
    "name": "ipython",
    "version": 3
   },
   "file_extension": ".py",
   "mimetype": "text/x-python",
   "name": "python",
   "nbconvert_exporter": "python",
   "pygments_lexer": "ipython3",
   "version": "3.12.6"
  }
 },
 "nbformat": 4,
 "nbformat_minor": 5
}
