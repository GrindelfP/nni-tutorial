{
 "cells": [
  {
   "cell_type": "markdown",
   "id": "64076761-42bf-449c-8b43-f252255fe002",
   "metadata": {},
   "source": [
    "# Туториал по нейросетевому подходу к численному интегрированию функции одной переменной"
   ]
  },
  {
   "cell_type": "markdown",
   "id": "629469f6-85f4-491b-8328-9c0979114c0b",
   "metadata": {},
   "source": [
    "__Задача__: использовать нейросеть архитектуры MLP для численного интегрирования функции одной переменной.\n",
    "\n",
    "__Использованные источники__: \n",
    "\n",
    "* Lloyd S., Irani R. A., Ahmadi M. Using neural networks for fast numerical integration and optimization //\n",
    "IEEE Access. — 2020. — Т. 8. — С. 84519—84531.\n",
    "* [Документация по Keras](https://www.tensorflow.org/guide/keras)\n",
    "* [Документация по NumPy](https://numpy.org/doc/)\n",
    "\n",
    "__Немного теории__\n",
    "\n",
    "Численным интегралом функции одной переменной называют выражение вида:\n",
    "\n",
    "$ I(f) = \\int_{a}^{b} dx \\{f(x)\\} $ (1) \n",
    "\n",
    "В некоторых случаях неопределенный интеграл функции $f(x)$ может быть задан аналитически,\n",
    "но иногда аналитическая форма не определяется и тогда прибегают к помощи численных методов.\n",
    "\n",
    "Применить нейросетевой подход возможно образом, описаным далее."
   ]
  },
  {
   "cell_type": "markdown",
   "id": "4f26634d-5ff0-4f35-9526-b26c25c22e7a",
   "metadata": {},
   "source": [
    "__1. Нейросеть можно представить аналитически__\n",
    "\n",
    "Нейросеть, так как она является лишь набором математических операций над числами в определенной последовательности, \n",
    "можно представить как некоторую функцию $\\hat{f}(x)$, которая может быть задана аналитически:\n",
    "\n",
    "$ \\hat{f}(X) = b^{(2)} + W^{(2)T}\\phi(b^{(1)}+W^{(1)}X) $ (2)\n",
    "\n",
    "-- такое аналитическое представление имеет многослойный перцептрон (MLP) с одним скрытым слоем, где\n",
    "\n",
    "$ W^{(1)}, W^{(2)} $ - множества весов нейросети,\n",
    "\n",
    "$ b^{(1)}, b^{(2)} $ - множества смещений нейросети.\n",
    "\n",
    "$ X $ - множество входных параметров (для функции одной переменной $|X| = 1$ и в дальнейшем будет указываться как $x$),\n",
    "\n",
    "$ \\phi(•) $ - функция активации скрытого слоя."
   ]
  },
  {
   "cell_type": "code",
   "execution_count": 2,
   "id": "766c8d63-ee9f-4847-84a7-8343a962cb39",
   "metadata": {},
   "outputs": [],
   "source": [
    "import tensorflow as tf\n",
    "from tensorflow.keras import layers, models, optimizers\n",
    "import numpy as np\n",
    "import matplotlib.pyplot as plt\n",
    "import math\n",
    "\n",
    "from mpmath import polylog"
   ]
  },
  {
   "cell_type": "code",
   "execution_count": null,
   "id": "29f74521-32e9-4672-ade3-c1832586cc51",
   "metadata": {},
   "outputs": [],
   "source": []
  }
 ],
 "metadata": {
  "kernelspec": {
   "display_name": "Python 3 (ipykernel)",
   "language": "python",
   "name": "python3"
  },
  "language_info": {
   "codemirror_mode": {
    "name": "ipython",
    "version": 3
   },
   "file_extension": ".py",
   "mimetype": "text/x-python",
   "name": "python",
   "nbconvert_exporter": "python",
   "pygments_lexer": "ipython3",
   "version": "3.12.6"
  }
 },
 "nbformat": 4,
 "nbformat_minor": 5
}
